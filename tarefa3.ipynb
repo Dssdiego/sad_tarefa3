{
 "cells": [
  {
   "cell_type": "code",
   "execution_count": 1,
   "metadata": {},
   "outputs": [],
   "source": [
    "import pandas as pd\n",
    "import numpy as np\n",
    "import math"
   ]
  },
  {
   "cell_type": "code",
   "execution_count": 2,
   "metadata": {},
   "outputs": [
    {
     "data": {
      "text/html": [
       "<div>\n",
       "<style scoped>\n",
       "    .dataframe tbody tr th:only-of-type {\n",
       "        vertical-align: middle;\n",
       "    }\n",
       "\n",
       "    .dataframe tbody tr th {\n",
       "        vertical-align: top;\n",
       "    }\n",
       "\n",
       "    .dataframe thead th {\n",
       "        text-align: right;\n",
       "    }\n",
       "</style>\n",
       "<table border=\"1\" class=\"dataframe\">\n",
       "  <thead>\n",
       "    <tr style=\"text-align: right;\">\n",
       "      <th></th>\n",
       "      <th>dia</th>\n",
       "      <th>aspecto</th>\n",
       "      <th>temp</th>\n",
       "      <th>humidade</th>\n",
       "      <th>vento</th>\n",
       "      <th>jogar</th>\n",
       "    </tr>\n",
       "  </thead>\n",
       "  <tbody>\n",
       "    <tr>\n",
       "      <th>0</th>\n",
       "      <td>d1</td>\n",
       "      <td>sol</td>\n",
       "      <td>quente</td>\n",
       "      <td>elevada</td>\n",
       "      <td>fraco</td>\n",
       "      <td>não</td>\n",
       "    </tr>\n",
       "    <tr>\n",
       "      <th>1</th>\n",
       "      <td>d2</td>\n",
       "      <td>sol</td>\n",
       "      <td>quente</td>\n",
       "      <td>elevada</td>\n",
       "      <td>forte</td>\n",
       "      <td>não</td>\n",
       "    </tr>\n",
       "    <tr>\n",
       "      <th>2</th>\n",
       "      <td>d3</td>\n",
       "      <td>nuvens</td>\n",
       "      <td>quente</td>\n",
       "      <td>elevada</td>\n",
       "      <td>fraco</td>\n",
       "      <td>sim</td>\n",
       "    </tr>\n",
       "    <tr>\n",
       "      <th>3</th>\n",
       "      <td>d4</td>\n",
       "      <td>chuva</td>\n",
       "      <td>ameno</td>\n",
       "      <td>elevada</td>\n",
       "      <td>fraco</td>\n",
       "      <td>sim</td>\n",
       "    </tr>\n",
       "    <tr>\n",
       "      <th>4</th>\n",
       "      <td>d5</td>\n",
       "      <td>chuva</td>\n",
       "      <td>fresco</td>\n",
       "      <td>normal</td>\n",
       "      <td>fraco</td>\n",
       "      <td>sim</td>\n",
       "    </tr>\n",
       "    <tr>\n",
       "      <th>5</th>\n",
       "      <td>d6</td>\n",
       "      <td>chuva</td>\n",
       "      <td>fresco</td>\n",
       "      <td>normal</td>\n",
       "      <td>forte</td>\n",
       "      <td>não</td>\n",
       "    </tr>\n",
       "    <tr>\n",
       "      <th>6</th>\n",
       "      <td>d7</td>\n",
       "      <td>nuvens</td>\n",
       "      <td>fresco</td>\n",
       "      <td>normal</td>\n",
       "      <td>fraco</td>\n",
       "      <td>sim</td>\n",
       "    </tr>\n",
       "    <tr>\n",
       "      <th>7</th>\n",
       "      <td>d8</td>\n",
       "      <td>sol</td>\n",
       "      <td>ameno</td>\n",
       "      <td>elevada</td>\n",
       "      <td>fraco</td>\n",
       "      <td>não</td>\n",
       "    </tr>\n",
       "    <tr>\n",
       "      <th>8</th>\n",
       "      <td>d9</td>\n",
       "      <td>sol</td>\n",
       "      <td>fresco</td>\n",
       "      <td>normal</td>\n",
       "      <td>fraco</td>\n",
       "      <td>sim</td>\n",
       "    </tr>\n",
       "    <tr>\n",
       "      <th>9</th>\n",
       "      <td>d10</td>\n",
       "      <td>chuva</td>\n",
       "      <td>ameno</td>\n",
       "      <td>normal</td>\n",
       "      <td>forte</td>\n",
       "      <td>sim</td>\n",
       "    </tr>\n",
       "    <tr>\n",
       "      <th>10</th>\n",
       "      <td>d11</td>\n",
       "      <td>sol</td>\n",
       "      <td>ameno</td>\n",
       "      <td>normal</td>\n",
       "      <td>forte</td>\n",
       "      <td>sim</td>\n",
       "    </tr>\n",
       "    <tr>\n",
       "      <th>11</th>\n",
       "      <td>d12</td>\n",
       "      <td>nuvens</td>\n",
       "      <td>ameno</td>\n",
       "      <td>elevada</td>\n",
       "      <td>forte</td>\n",
       "      <td>sim</td>\n",
       "    </tr>\n",
       "    <tr>\n",
       "      <th>12</th>\n",
       "      <td>d13</td>\n",
       "      <td>nuvens</td>\n",
       "      <td>quente</td>\n",
       "      <td>normal</td>\n",
       "      <td>fraco</td>\n",
       "      <td>sim</td>\n",
       "    </tr>\n",
       "    <tr>\n",
       "      <th>13</th>\n",
       "      <td>d14</td>\n",
       "      <td>chuva</td>\n",
       "      <td>ameno</td>\n",
       "      <td>elevada</td>\n",
       "      <td>forte</td>\n",
       "      <td>não</td>\n",
       "    </tr>\n",
       "  </tbody>\n",
       "</table>\n",
       "</div>"
      ],
      "text/plain": [
       "    dia aspecto    temp humidade  vento jogar\n",
       "0    d1     sol  quente  elevada  fraco   não\n",
       "1    d2     sol  quente  elevada  forte   não\n",
       "2    d3  nuvens  quente  elevada  fraco   sim\n",
       "3    d4   chuva   ameno  elevada  fraco   sim\n",
       "4    d5   chuva  fresco   normal  fraco   sim\n",
       "5    d6   chuva  fresco   normal  forte   não\n",
       "6    d7  nuvens  fresco   normal  fraco   sim\n",
       "7    d8     sol   ameno  elevada  fraco   não\n",
       "8    d9     sol  fresco   normal  fraco   sim\n",
       "9   d10   chuva   ameno   normal  forte   sim\n",
       "10  d11     sol   ameno   normal  forte   sim\n",
       "11  d12  nuvens   ameno  elevada  forte   sim\n",
       "12  d13  nuvens  quente   normal  fraco   sim\n",
       "13  d14   chuva   ameno  elevada  forte   não"
      ]
     },
     "execution_count": 2,
     "metadata": {},
     "output_type": "execute_result"
    }
   ],
   "source": [
    "df = pd.read_csv('treino.csv')\n",
    "df"
   ]
  },
  {
   "cell_type": "code",
   "execution_count": 25,
   "metadata": {},
   "outputs": [],
   "source": [
    "def entropia(atributo):\n",
    "    ent = 0\n",
    "    atribs, cont = np.unique(atributo, return_counts=True)\n",
    "    \n",
    "    for i in range(len(atribs)):\n",
    "        prob = cont[i]/np.sum(cont)\n",
    "        ent -= prob*np.log2(prob)\n",
    "        \n",
    "    return round(ent,4)"
   ]
  },
  {
   "cell_type": "code",
   "execution_count": 71,
   "metadata": {},
   "outputs": [],
   "source": [
    "def ganho(atributo):\n",
    "    # Coluna de resultado sempre é a última\n",
    "    colunaResultado = colunas[-1] \n",
    "    \n",
    "    ent = entropia(df[colunaResultado])\n",
    "    ganho_medio = 0\n",
    "    atribs, count = np.unique(df[atributo], return_counts=True)\n",
    "    for i in range(len(atribs)):\n",
    "        split_data = df.where(df[atributo] == atribs[i]).dropna()[colunaResultado]\n",
    "        ganho_medio += (count[i]/np.sum(count)) * entropia(split_data)\n",
    "    ganho_final = ent - ganho_medio\n",
    "    return round(ganho_final,4)"
   ]
  },
  {
   "cell_type": "code",
   "execution_count": 74,
   "metadata": {},
   "outputs": [],
   "source": [
    "def roda_algoritmo():\n",
    "    # Busca lista de colunas\n",
    "    colunas = list(df.columns)    \n",
    "\n",
    "    # Colunas de atributos são todas as outras\n",
    "    atributos = colunas[:-1]\n",
    "    \n",
    "    print('Entropia: ' + str(entropia(df[colunaResultado])))\n",
    "    for i in range(len(atributos)):\n",
    "        print('Ganho [' + atributos[i] + ']: ' + str(ganho(atributos[i])))"
   ]
  },
  {
   "cell_type": "code",
   "execution_count": 75,
   "metadata": {},
   "outputs": [
    {
     "name": "stdout",
     "output_type": "stream",
     "text": [
      "Entropia: 0.9403\n",
      "Ganho [dia]: 0.9403\n",
      "Ganho [aspecto]: 0.2467\n",
      "Ganho [temp]: 0.0292\n",
      "Ganho [humidade]: 0.1519\n",
      "Ganho [vento]: 0.0481\n"
     ]
    }
   ],
   "source": [
    "roda_algoritmo()"
   ]
  },
  {
   "cell_type": "code",
   "execution_count": 77,
   "metadata": {},
   "outputs": [
    {
     "data": {
      "text/plain": [
       "0.2467"
      ]
     },
     "execution_count": 77,
     "metadata": {},
     "output_type": "execute_result"
    }
   ],
   "source": [
    "ganho('aspecto')"
   ]
  },
  {
   "cell_type": "code",
   "execution_count": null,
   "metadata": {},
   "outputs": [],
   "source": []
  }
 ],
 "metadata": {
  "kernelspec": {
   "display_name": "Python 3",
   "language": "python",
   "name": "python3"
  },
  "language_info": {
   "codemirror_mode": {
    "name": "ipython",
    "version": 3
   },
   "file_extension": ".py",
   "mimetype": "text/x-python",
   "name": "python",
   "nbconvert_exporter": "python",
   "pygments_lexer": "ipython3",
   "version": "3.8.5"
  }
 },
 "nbformat": 4,
 "nbformat_minor": 4
}
